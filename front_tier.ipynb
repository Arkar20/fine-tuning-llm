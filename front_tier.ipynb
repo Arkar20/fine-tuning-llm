{
 "cells": [
  {
   "cell_type": "markdown",
   "id": "db8736a7-ed94-441c-9556-831fa57b5a10",
   "metadata": {},
   "source": [
    "# The Product Pricer Continued\n",
    "\n",
    "A model that can estimate how much something costs, from its description.\n",
    "\n",
    "## AT LAST - it's time for Fine Tuning!\n",
    "\n",
    "After all this data preparation, and old school machine learning, we've finally arrived at the moment you've been waiting for. Fine-tuning a model."
   ]
  },
  {
   "cell_type": "code",
   "execution_count": null,
   "id": "681c717b-4c24-4ac3-a5f3-3c5881d6e70a",
   "metadata": {},
   "outputs": [
    {
     "name": "stderr",
     "output_type": "stream",
     "text": [
      "/Users/arkar/dev/llm/llm_engineering/venv/lib/python3.9/site-packages/urllib3/__init__.py:35: NotOpenSSLWarning: urllib3 v2 only supports OpenSSL 1.1.1+, currently the 'ssl' module is compiled with 'LibreSSL 2.8.3'. See: https://github.com/urllib3/urllib3/issues/3020\n",
      "  warnings.warn(\n"
     ]
    }
   ],
   "source": [
    "# imports\n",
    "\n",
    "import os\n",
    "import re\n",
    "import math\n",
    "import json\n",
    "import random\n",
    "from dotenv import load_dotenv\n",
    "import matplotlib.pyplot as plt\n",
    "import numpy as np\n",
    "import pickle\n",
    "from collections import Counter\n",
    "from openai import OpenAI"
   ]
  },
  {
   "cell_type": "code",
   "execution_count": 2,
   "id": "36d05bdc-0155-4c72-a7ee-aa4e614ffd3c",
   "metadata": {},
   "outputs": [],
   "source": [
    "# environment\n",
    "\n",
    "load_dotenv(override=True)\n",
    "os.environ['OPENAI_API_KEY'] = os.getenv('OPENAI_API_KEY', 'your-key-if-not-using-env')\n",
    "os.environ['ANTHROPIC_API_KEY'] = os.getenv('ANTHROPIC_API_KEY', 'your-key-if-not-using-env')\n",
    "os.environ['HF_TOKEN'] = os.getenv('HF_TOKEN', 'your-key-if-not-using-env')"
   ]
  },
  {
   "cell_type": "code",
   "execution_count": 4,
   "id": "884a50bd-8cae-425e-8e56-f079fc3e65ce",
   "metadata": {},
   "outputs": [],
   "source": [
    "# moved our Tester into a separate package\n",
    "# call it with Tester.test(function_name, test_dataset)\n",
    "\n",
    "from items import Item\n",
    "from testing import Tester"
   ]
  },
  {
   "cell_type": "code",
   "execution_count": 5,
   "id": "b0a6fb86-74a4-403c-ab25-6db2d74e9d2b",
   "metadata": {},
   "outputs": [],
   "source": [
    "openai = OpenAI()"
   ]
  },
  {
   "cell_type": "code",
   "execution_count": 6,
   "id": "c830ed3e-24ee-4af6-a07b-a1bfdcd39278",
   "metadata": {},
   "outputs": [],
   "source": [
    "%matplotlib inline"
   ]
  },
  {
   "cell_type": "code",
   "execution_count": 11,
   "id": "5c9b05f4-c9eb-462c-8d86-de9140a2d985",
   "metadata": {},
   "outputs": [],
   "source": [
    "# Let's avoid curating all our data again! Load in the pickle files:\n",
    "\n",
    "with open('train.pkl', 'rb') as file:\n",
    "    train = pickle.load(file)\n",
    "\n",
    "with open('test.pkl', 'rb') as file:\n",
    "    test = pickle.load(file)"
   ]
  },
  {
   "cell_type": "code",
   "execution_count": 8,
   "id": "e8367135-f40e-43e1-8f3c-09e990ab1194",
   "metadata": {},
   "outputs": [],
   "source": [
    "# OpenAI recommends fine-tuning with populations of 50-100 examples\n",
    "# But as our examples are very small, I'm suggesting we go with 200 examples (and 1 epoch)\n",
    "\n",
    "fine_tune_train = train[:200]\n",
    "fine_tune_validation = train[200:250]"
   ]
  },
  {
   "cell_type": "markdown",
   "id": "8be4a889-81c3-42b1-a2fc-034cdc7321a6",
   "metadata": {},
   "source": [
    "# Step 1\n",
    "\n",
    "Prepare our data for fine-tuning in JSONL (JSON Lines) format and upload to OpenAI"
   ]
  },
  {
   "cell_type": "code",
   "execution_count": null,
   "id": "8ae2fb3c-1cff-4ce3-911e-627c970edd7b",
   "metadata": {},
   "outputs": [],
   "source": [
    "# First let's work on a good prompt for a Frontier model\n",
    "# Notice that I'm removing the \" to the nearest dollar\"\n",
    "# When we train our own models, we'll need to make the problem as easy as possible,\n",
    "# but a Frontier model needs no such simplification.\n",
    "\n",
    "def messages_for(item):\n",
    "    system_message = \"You estimate prices of items. Reply only with the price, no explanation\"\n",
    "    user_prompt = item.test_prompt().replace(\" to the nearest dollar\",\"\").replace(\"\\n\\nPrice is $\",\"\")\n",
    "    return [\n",
    "        {\"role\": \"system\", \"content\": system_message},\n",
    "        {\"role\": \"user\", \"content\": user_prompt},\n",
    "        {\"role\": \"assistant\", \"content\": f\"Price is ${item.price:.2f}\"}\n",
    "    ]"
   ]
  },
  {
   "cell_type": "code",
   "execution_count": 10,
   "id": "1aa280f6-1227-426a-a2e2-1ce985feba1e",
   "metadata": {},
   "outputs": [
    {
     "data": {
      "text/plain": [
       "[{'role': 'system',\n",
       "  'content': 'You estimate prices of items. Reply only with the price, no explanation'},\n",
       " {'role': 'user',\n",
       "  'content': 'How much does this cost?\\n\\nGOLDEN ICEPURE Replacement for Kenmore 6, WF293, Refrigerator Water Filter 3 PACK\\n💦𝐂𝐞𝐫𝐭𝐢𝐟𝐢𝐜𝐚𝐭𝐢𝐨𝐧 - The GOLDEN ICEPURE Refrigerator water filter is certified by the NSF/ANSI 42 and meets the requirements of NSF/ANSI/CAN 372. We guarantee the quality, health, and environmental friendliness of our products and services. 💦𝐏𝐞𝐫𝐟𝐨𝐫𝐦𝐚𝐧𝐜𝐞 - Using multi-stage filtration technology and high-grade coconut shell carbon'},\n",
       " {'role': 'assistant', 'content': 'Price is $22.59'}]"
      ]
     },
     "execution_count": 10,
     "metadata": {},
     "output_type": "execute_result"
    }
   ],
   "source": [
    "messages_for(train[0])"
   ]
  },
  {
   "cell_type": "code",
   "execution_count": 11,
   "id": "c0e5b56c-8a0b-4d8e-a112-ce87efb4e152",
   "metadata": {},
   "outputs": [],
   "source": [
    "# Convert the items into a list of json objects - a \"jsonl\" string\n",
    "# Each row represents a message in the form:\n",
    "# {\"messages\" : [{\"role\": \"system\", \"content\": \"You estimate prices...\n",
    "\n",
    "\n",
    "def make_jsonl(items):\n",
    "    result = \"\"\n",
    "    for item in items:\n",
    "        messages = messages_for(item)\n",
    "        messages_str = json.dumps(messages)\n",
    "        result += '{\"messages\": ' + messages_str +'}\\n'\n",
    "    return result.strip()"
   ]
  },
  {
   "cell_type": "code",
   "execution_count": 13,
   "id": "5e72de93-a6a6-4b35-855e-15786b97bf5f",
   "metadata": {},
   "outputs": [
    {
     "name": "stdout",
     "output_type": "stream",
     "text": [
      "{\"messages\": [{\"role\": \"system\", \"content\": \"You estimate prices of items. Reply only with the price, no explanation\"}, {\"role\": \"user\", \"content\": \"How much does this cost?\\n\\nGOLDEN ICEPURE Replacement for Kenmore 6, WF293, Refrigerator Water Filter 3 PACK\\n\\ud83d\\udca6\\ud835\\udc02\\ud835\\udc1e\\ud835\\udc2b\\ud835\\udc2d\\ud835\\udc22\\ud835\\udc1f\\ud835\\udc22\\ud835\\udc1c\\ud835\\udc1a\\ud835\\udc2d\\ud835\\udc22\\ud835\\udc28\\ud835\\udc27 - The GOLDEN ICEPURE Refrigerator water filter is certified by the NSF/ANSI 42 and meets the requirements of NSF/ANSI/CAN 372. We guarantee the quality, health, and environmental friendliness of our products and services. \\ud83d\\udca6\\ud835\\udc0f\\ud835\\udc1e\\ud835\\udc2b\\ud835\\udc1f\\ud835\\udc28\\ud835\\udc2b\\ud835\\udc26\\ud835\\udc1a\\ud835\\udc27\\ud835\\udc1c\\ud835\\udc1e - Using multi-stage filtration technology and high-grade coconut shell carbon\"}, {\"role\": \"assistant\", \"content\": \"Price is $22.59\"}]}\n"
     ]
    }
   ],
   "source": [
    "print(make_jsonl(train[:1]))"
   ]
  },
  {
   "cell_type": "code",
   "execution_count": 14,
   "id": "7734bff0-95c4-4e67-a87e-7e2254e2c67d",
   "metadata": {},
   "outputs": [],
   "source": [
    "# Convert the items into jsonl and write them to a file\n",
    "\n",
    "def write_jsonl(items, filename):\n",
    "    with open(filename, \"w\") as f:\n",
    "        jsonl = make_jsonl(items)\n",
    "        f.write(jsonl)"
   ]
  },
  {
   "cell_type": "code",
   "execution_count": 15,
   "id": "393d3ad8-999a-4f99-8c04-339d9166d604",
   "metadata": {},
   "outputs": [],
   "source": [
    "write_jsonl(fine_tune_train, \"fine_tune_train.jsonl\")"
   ]
  },
  {
   "cell_type": "code",
   "execution_count": 16,
   "id": "8e23927f-d73e-4668-ac20-abe6f14a56cb",
   "metadata": {},
   "outputs": [],
   "source": [
    "write_jsonl(fine_tune_validation, \"fine_tune_validation.jsonl\")"
   ]
  },
  {
   "cell_type": "code",
   "execution_count": 17,
   "id": "d59ad8d2-c61a-448e-b7ed-232f1606970f",
   "metadata": {},
   "outputs": [],
   "source": [
    "with open(\"fine_tune_train.jsonl\", \"rb\") as f:\n",
    "    train_file = openai.files.create(file=f, purpose=\"fine-tune\")"
   ]
  },
  {
   "cell_type": "code",
   "execution_count": 18,
   "id": "083fefba-fd54-47ce-9ff3-aabbc200846f",
   "metadata": {},
   "outputs": [
    {
     "data": {
      "text/plain": [
       "FileObject(id='file-Eb6oS1PvLLLuDY3oyAzWK5', bytes=191656, created_at=1745627335, filename='fine_tune_train.jsonl', object='file', purpose='fine-tune', status='processed', status_details=None, expires_at=None)"
      ]
     },
     "execution_count": 18,
     "metadata": {},
     "output_type": "execute_result"
    }
   ],
   "source": [
    "train_file"
   ]
  },
  {
   "cell_type": "code",
   "execution_count": 19,
   "id": "97df3360-0760-4422-a556-5f26d23de6dc",
   "metadata": {},
   "outputs": [],
   "source": [
    "with open(\"fine_tune_validation.jsonl\", \"rb\") as f:\n",
    "    validation_file = openai.files.create(file=f, purpose=\"fine-tune\")"
   ]
  },
  {
   "cell_type": "code",
   "execution_count": 20,
   "id": "a1abb8f3-9e52-4061-970c-fcf399d8ffa3",
   "metadata": {},
   "outputs": [
    {
     "data": {
      "text/plain": [
       "FileObject(id='file-KQx6C14qkrnkPi5Xr3zV1k', bytes=47876, created_at=1745627335, filename='fine_tune_validation.jsonl', object='file', purpose='fine-tune', status='processed', status_details=None, expires_at=None)"
      ]
     },
     "execution_count": 20,
     "metadata": {},
     "output_type": "execute_result"
    }
   ],
   "source": [
    "validation_file"
   ]
  },
  {
   "cell_type": "markdown",
   "id": "466052b9-9fb9-48f6-8cf9-c74e6ddc1394",
   "metadata": {},
   "source": [
    "# Step 2\n",
    "\n",
    "I love Weights and Biases - a beautiful, free platform for monitoring training runs.  \n",
    "Weights and Biases is integrated with OpenAI for fine-tuning.\n",
    "\n",
    "First set up your weights & biases free account at:\n",
    "\n",
    "https://wandb.ai\n",
    "\n",
    "From the Avatar >> Settings menu, near the bottom, you can create an API key.\n",
    "\n",
    "Then visit the OpenAI dashboard at:\n",
    "\n",
    "https://platform.openai.com/account/organization\n",
    "\n",
    "In the integrations section, you can add your Weights & Biases key.\n",
    "\n",
    "## And now time to Fine-tune!"
   ]
  },
  {
   "cell_type": "code",
   "execution_count": 21,
   "id": "c7add1a7-a746-4d6e-a5f8-e25629b8b527",
   "metadata": {},
   "outputs": [],
   "source": [
    "wandb_integration = {\"type\": \"wandb\", \"wandb\": {\"project\": \"gpt-pricer\"}}"
   ]
  },
  {
   "cell_type": "code",
   "execution_count": 22,
   "id": "49801e69-9277-4deb-9f33-99efb6b45ac2",
   "metadata": {},
   "outputs": [
    {
     "data": {
      "text/plain": [
       "'file-Eb6oS1PvLLLuDY3oyAzWK5'"
      ]
     },
     "execution_count": 22,
     "metadata": {},
     "output_type": "execute_result"
    }
   ],
   "source": [
    "train_file.id"
   ]
  },
  {
   "cell_type": "code",
   "execution_count": 25,
   "id": "45421b86-5531-4e42-ab19-d6abbb8f4c13",
   "metadata": {},
   "outputs": [
    {
     "data": {
      "text/plain": [
       "FineTuningJob(id='ftjob-lP99oq2mF3vPh7sj907znleq', created_at=1745628108, error=Error(code=None, message=None, param=None), fine_tuned_model=None, finished_at=None, hyperparameters=Hyperparameters(batch_size='auto', learning_rate_multiplier='auto', n_epochs=1), model='gpt-4o-mini-2024-07-18', object='fine_tuning.job', organization_id='org-veXOa4g1YopZugZriLah1cgx', result_files=[], seed=42, status='validating_files', trained_tokens=None, training_file='file-Eb6oS1PvLLLuDY3oyAzWK5', validation_file='file-KQx6C14qkrnkPi5Xr3zV1k', estimated_finish=None, integrations=[FineTuningJobWandbIntegrationObject(type='wandb', wandb=FineTuningJobWandbIntegration(project='gpt-pricer', entity=None, name=None, tags=None, run_id='ftjob-lP99oq2mF3vPh7sj907znleq'))], method=Method(dpo=None, supervised=MethodSupervised(hyperparameters=MethodSupervisedHyperparameters(batch_size='auto', learning_rate_multiplier='auto', n_epochs=1)), type='supervised'), user_provided_suffix='pricer', metadata=None)"
      ]
     },
     "execution_count": 25,
     "metadata": {},
     "output_type": "execute_result"
    }
   ],
   "source": [
    "openai.fine_tuning.jobs.create(\n",
    "    training_file=train_file.id,\n",
    "    validation_file=validation_file.id,\n",
    "    model=\"gpt-4o-mini-2024-07-18\",\n",
    "    seed=42,\n",
    "    hyperparameters={\"n_epochs\": 1},\n",
    "    integrations = [wandb_integration],\n",
    "    suffix=\"pricer\"\n",
    ")"
   ]
  },
  {
   "cell_type": "code",
   "execution_count": 26,
   "id": "aeb9de2e-542c-4e83-81c7-b6745133e48b",
   "metadata": {},
   "outputs": [
    {
     "data": {
      "text/plain": [
       "SyncCursorPage[FineTuningJob](data=[FineTuningJob(id='ftjob-lP99oq2mF3vPh7sj907znleq', created_at=1745628108, error=Error(code=None, message=None, param=None), fine_tuned_model=None, finished_at=None, hyperparameters=Hyperparameters(batch_size='auto', learning_rate_multiplier='auto', n_epochs=1), model='gpt-4o-mini-2024-07-18', object='fine_tuning.job', organization_id='org-veXOa4g1YopZugZriLah1cgx', result_files=[], seed=42, status='validating_files', trained_tokens=None, training_file='file-Eb6oS1PvLLLuDY3oyAzWK5', validation_file='file-KQx6C14qkrnkPi5Xr3zV1k', estimated_finish=None, integrations=[FineTuningJobWandbIntegrationObject(type='wandb', wandb=FineTuningJobWandbIntegration(project='gpt-pricer', entity=None, name=None, tags=None, run_id='ftjob-lP99oq2mF3vPh7sj907znleq'))], method=Method(dpo=None, supervised=MethodSupervised(hyperparameters=MethodSupervisedHyperparameters(batch_size='auto', learning_rate_multiplier='auto', n_epochs=1)), type='supervised'), user_provided_suffix='pricer', metadata=None)], has_more=False, object='list')"
      ]
     },
     "execution_count": 26,
     "metadata": {},
     "output_type": "execute_result"
    }
   ],
   "source": [
    "openai.fine_tuning.jobs.list(limit=1)"
   ]
  },
  {
   "cell_type": "code",
   "execution_count": 27,
   "id": "40d24873-8ff5-413f-b0d4-8f77c28f18e1",
   "metadata": {},
   "outputs": [],
   "source": [
    "job_id = openai.fine_tuning.jobs.list(limit=1).data[0].id"
   ]
  },
  {
   "cell_type": "code",
   "execution_count": 28,
   "id": "a32aef35-4b38-436c-ad00-d082f758efa7",
   "metadata": {},
   "outputs": [
    {
     "data": {
      "text/plain": [
       "'ftjob-lP99oq2mF3vPh7sj907znleq'"
      ]
     },
     "execution_count": 28,
     "metadata": {},
     "output_type": "execute_result"
    }
   ],
   "source": [
    "job_id"
   ]
  },
  {
   "cell_type": "code",
   "execution_count": 29,
   "id": "a7e01247-c133-48e1-93d3-c79c399e6178",
   "metadata": {},
   "outputs": [
    {
     "data": {
      "text/plain": [
       "FineTuningJob(id='ftjob-lP99oq2mF3vPh7sj907znleq', created_at=1745628108, error=Error(code=None, message=None, param=None), fine_tuned_model=None, finished_at=None, hyperparameters=Hyperparameters(batch_size='auto', learning_rate_multiplier='auto', n_epochs=1), model='gpt-4o-mini-2024-07-18', object='fine_tuning.job', organization_id='org-veXOa4g1YopZugZriLah1cgx', result_files=[], seed=42, status='validating_files', trained_tokens=None, training_file='file-Eb6oS1PvLLLuDY3oyAzWK5', validation_file='file-KQx6C14qkrnkPi5Xr3zV1k', estimated_finish=None, integrations=[FineTuningJobWandbIntegrationObject(type='wandb', wandb=FineTuningJobWandbIntegration(project='gpt-pricer', entity=None, name=None, tags=None, run_id='ftjob-lP99oq2mF3vPh7sj907znleq'))], method=Method(dpo=None, supervised=MethodSupervised(hyperparameters=MethodSupervisedHyperparameters(batch_size='auto', learning_rate_multiplier='auto', n_epochs=1)), type='supervised'), user_provided_suffix='pricer', metadata=None)"
      ]
     },
     "execution_count": 29,
     "metadata": {},
     "output_type": "execute_result"
    }
   ],
   "source": [
    "openai.fine_tuning.jobs.retrieve(job_id)"
   ]
  },
  {
   "cell_type": "code",
   "execution_count": 33,
   "id": "0f5150e1-b8de-485f-8eba-cf1e5b00c117",
   "metadata": {},
   "outputs": [
    {
     "data": {
      "text/plain": [
       "[FineTuningJobEvent(id='ftevent-4SU7KIytKhFzShYhxoXv4D83', created_at=1745628208, level='info', message='Fine-tuning job started', object='fine_tuning.job.event', data=None, type='message'),\n",
       " FineTuningJobEvent(id='ftevent-sxAODtEf1ZS1aVXRthf9xEey', created_at=1745628206, level='info', message='Files validated, moving job to queued state', object='fine_tuning.job.event', data={}, type='message'),\n",
       " FineTuningJobEvent(id='ftevent-fXemGe0VVbqN21mLlUop8xxG', created_at=1745628108, level='info', message='Validating training file: file-Eb6oS1PvLLLuDY3oyAzWK5 and validation file: file-KQx6C14qkrnkPi5Xr3zV1k', object='fine_tuning.job.event', data={}, type='message'),\n",
       " FineTuningJobEvent(id='ftevent-FE2x5gYcjvLlZAMoJTGjjJPG', created_at=1745628108, level='info', message='Created fine-tuning job: ftjob-lP99oq2mF3vPh7sj907znleq', object='fine_tuning.job.event', data={}, type='message')]"
      ]
     },
     "execution_count": 33,
     "metadata": {},
     "output_type": "execute_result"
    }
   ],
   "source": [
    "openai.fine_tuning.jobs.list_events(fine_tuning_job_id=job_id, limit=10).data"
   ]
  },
  {
   "cell_type": "markdown",
   "id": "066fef03-8338-4526-9df3-89b649ad4f0a",
   "metadata": {},
   "source": [
    "# Step 3\n",
    "\n",
    "Test our fine tuned model"
   ]
  },
  {
   "cell_type": "code",
   "execution_count": 7,
   "id": "fa4488cb-3c17-4eda-abd1-53c1c68a491b",
   "metadata": {},
   "outputs": [],
   "source": [
    "fine_tuned_model_name = \"ft:gpt-4o-mini-2024-07-18:personal:pricer:BQO2uzOe\""
   ]
  },
  {
   "cell_type": "code",
   "execution_count": 8,
   "id": "e9370937-5a6f-4724-8265-b208663b4450",
   "metadata": {},
   "outputs": [
    {
     "data": {
      "text/plain": [
       "'ft:gpt-4o-mini-2024-07-18:personal:pricer:BQO2uzOe'"
      ]
     },
     "execution_count": 8,
     "metadata": {},
     "output_type": "execute_result"
    }
   ],
   "source": [
    "fine_tuned_model_name"
   ]
  },
  {
   "cell_type": "code",
   "execution_count": 9,
   "id": "66ea68e8-ab1b-4f0d-aba4-a59574d8f85e",
   "metadata": {},
   "outputs": [],
   "source": [
    "# The prompt\n",
    "\n",
    "def messages_for(item):\n",
    "    system_message = \"You estimate prices of items. Reply only with the price, no explanation\"\n",
    "    user_prompt = item.test_prompt().replace(\" to the nearest dollar\",\"\").replace(\"\\n\\nPrice is $\",\"\")\n",
    "    return [\n",
    "        {\"role\": \"system\", \"content\": system_message},\n",
    "        {\"role\": \"user\", \"content\": user_prompt},\n",
    "        {\"role\": \"assistant\", \"content\": \"Price is $\"}\n",
    "    ]"
   ]
  },
  {
   "cell_type": "code",
   "execution_count": 10,
   "id": "4ff92d61-0d27-4b0d-8b32-c9891016509b",
   "metadata": {},
   "outputs": [
    {
     "ename": "NameError",
     "evalue": "name 'test' is not defined",
     "output_type": "error",
     "traceback": [
      "\u001b[0;31m---------------------------------------------------------------------------\u001b[0m",
      "\u001b[0;31mNameError\u001b[0m                                 Traceback (most recent call last)",
      "Cell \u001b[0;32mIn[10], line 3\u001b[0m\n\u001b[1;32m      1\u001b[0m \u001b[38;5;66;03m# Try this out\u001b[39;00m\n\u001b[0;32m----> 3\u001b[0m messages_for(\u001b[43mtest\u001b[49m[\u001b[38;5;241m0\u001b[39m])\n",
      "\u001b[0;31mNameError\u001b[0m: name 'test' is not defined"
     ]
    }
   ],
   "source": [
    "# Try this out\n",
    "\n",
    "messages_for(test[0])"
   ]
  },
  {
   "cell_type": "code",
   "execution_count": 15,
   "id": "b1af1888-f94a-4106-b0d8-8a70939eec4e",
   "metadata": {},
   "outputs": [],
   "source": [
    "# A utility function to extract the price from a string\n",
    "\n",
    "def get_price(s):\n",
    "    s = s.replace('$','').replace(',','')\n",
    "    match = re.search(r\"[-+]?\\d*\\.\\d+|\\d+\", s)\n",
    "    return float(match.group()) if match else 0"
   ]
  },
  {
   "cell_type": "code",
   "execution_count": 16,
   "id": "f138c5b7-bcc1-4085-aced-68dad1bf36b4",
   "metadata": {},
   "outputs": [
    {
     "data": {
      "text/plain": [
       "99.99"
      ]
     },
     "execution_count": 16,
     "metadata": {},
     "output_type": "execute_result"
    }
   ],
   "source": [
    "get_price(\"The price is roughly $99.99 because blah blah\")"
   ]
  },
  {
   "cell_type": "code",
   "execution_count": null,
   "id": "501a2a7a-69c8-451b-bbc0-398bcb9e1612",
   "metadata": {},
   "outputs": [],
   "source": [
    "# The function for gpt-4o-mini\n",
    "\n",
    "def gpt_fine_tuned(item):\n",
    "    response = openai.chat.completions.create(\n",
    "        model=fine_tuned_model_name,\n",
    "        messages=messages_for(item),\n",
    "        seed=42,\n",
    "        max_tokens=7\n",
    "    )\n",
    "    reply = response.choices[0].message.content\n",
    "    return get_price(reply)"
   ]
  },
  {
   "cell_type": "code",
   "execution_count": 18,
   "id": "843d88b4-364a-431b-b48b-8a7c1f68b786",
   "metadata": {},
   "outputs": [
    {
     "name": "stdout",
     "output_type": "stream",
     "text": [
      "57.99\n",
      "21.66\n"
     ]
    }
   ],
   "source": [
    "print(test[0].price)\n",
    "print(gpt_fine_tuned(test[0]))"
   ]
  },
  {
   "cell_type": "code",
   "execution_count": 19,
   "id": "edd7ada0-15b7-42ec-bbbb-1250e0eb9af1",
   "metadata": {},
   "outputs": [
    {
     "name": "stdout",
     "output_type": "stream",
     "text": [
      "How much does this cost to the nearest dollar?\n",
      "\n",
      "General Electric Refrigerator Dispenser Solenoid Assembly\n",
      "This part is a possible option when ice door won't open or shut properly or when water is not dispensing. This part fixes the following symptoms ice maker won't dispense ice, water dispenser will not dispense water, door sweats inside or outside, door won't open or close, leaking water, ice maker will not make ice, freezer section too warm, frost buildup. This part fixes the following symptoms ice maker won't dispense ice, water dispenser will not dispense water. This part is a possible option when ice door won't open or shut properly or when water is not dispensing. Genuine Replacement Part Manufacturer General Electric, Part Weight 8.8 ounces, Dimensions 5.9 x 1.1 x \n",
      "\n",
      "Price is $\n"
     ]
    }
   ],
   "source": [
    "print(test[0].test_prompt())"
   ]
  },
  {
   "cell_type": "code",
   "execution_count": 20,
   "id": "36bdd2c9-1859-4f99-a09f-3ec83b845b30",
   "metadata": {},
   "outputs": [
    {
     "name": "stdout",
     "output_type": "stream",
     "text": [
      "\u001b[92m1: Guess: $21.66 Truth: $57.99 Error: $36.33 SLE: 0.92 Item: General Electric WR62X10055 Refrigerator...\u001b[0m\n",
      "\u001b[92m2: Guess: $24.99 Truth: $9.77 Error: $15.22 SLE: 0.78 Item: Beaquicy Upgraded W10766544 Gas Stove Kn...\u001b[0m\n",
      "\u001b[93m3: Guess: $239.99 Truth: $353.20 Error: $113.21 SLE: 0.15 Item: Empava 30\" Gas Stove Cooktop with 5 Ital...\u001b[0m\n",
      "\u001b[92m4: Guess: $29.90 Truth: $36.95 Error: $7.05 SLE: 0.04 Item: Oil Painting Flower Magnetic Dishwasher ...\u001b[0m\n",
      "\u001b[92m5: Guess: $22.22 Truth: $26.43 Error: $4.21 SLE: 0.03 Item: GE WH12X10531 Lid Switch Assembly\u001b[0m\n",
      "\u001b[92m6: Guess: $22.22 Truth: $21.95 Error: $0.27 SLE: 0.00 Item: HQRP Bearing and Seal Kit Compatible wit...\u001b[0m\n",
      "\u001b[92m7: Guess: $66.47 Truth: $67.00 Error: $0.53 SLE: 0.00 Item: Whirlpool 4392892 in-The-Wall Dryer Vent...\u001b[0m\n",
      "\u001b[92m8: Guess: $66.00 Truth: $28.85 Error: $37.15 SLE: 0.65 Item: Edgewater Parts 5304516871, 131359602 Li...\u001b[0m\n",
      "\u001b[92m9: Guess: $47.99 Truth: $16.99 Error: $31.00 SLE: 1.00 Item: Disposable Cups for Use in Keurig Brewer...\u001b[0m\n",
      "\u001b[91m10: Guess: $274.00 Truth: $799.99 Error: $525.99 SLE: 1.14 Item: FRIGIDAIRE Professional 30-Inch Gas Cook...\u001b[0m\n",
      "\u001b[92m11: Guess: $19.99 Truth: $39.99 Error: $20.00 SLE: 0.45 Item: ICEPURE ADQ747935 Replacement for LG LT1...\u001b[0m\n",
      "\u001b[92m12: Guess: $30.47 Truth: $52.45 Error: $21.98 SLE: 0.28 Item: 240356401 (Packs of 2) Durable refrigera...\u001b[0m\n",
      "\u001b[92m13: Guess: $29.99 Truth: $26.87 Error: $3.12 SLE: 0.01 Item: WB31M20 and WB31M19 Range Cooktop Porcel...\u001b[0m\n",
      "\u001b[92m14: Guess: $8.99 Truth: $16.99 Error: $8.00 SLE: 0.35 Item: AGOOBO Washing Machine Drain Hose,10 FT ...\u001b[0m\n",
      "\u001b[92m15: Guess: $8.99 Truth: $8.99 Error: $0.00 SLE: 0.00 Item: Supplying Demand W10314173 W10314171 Clo...\u001b[0m\n",
      "\u001b[93m16: Guess: $21.66 Truth: $78.16 Error: $56.50 SLE: 1.56 Item: Whirlpool 2188661 SxS Refrigerator WP218...\u001b[0m\n",
      "\u001b[92m17: Guess: $29.65 Truth: $24.63 Error: $5.02 SLE: 0.03 Item: Samsung DC66-00680A Pulsator-Cap\u001b[0m\n",
      "\u001b[92m18: Guess: $32.99 Truth: $8.99 Error: $24.00 SLE: 1.50 Item: 2-Pack 5304464438 Refrigerator Run Capac...\u001b[0m\n",
      "\u001b[92m19: Guess: $22.99 Truth: $29.99 Error: $7.00 SLE: 0.07 Item: 7406P428-60 Oven Heating Element Replace...\u001b[0m\n",
      "\u001b[92m20: Guess: $5.43 Truth: $3.20 Error: $2.23 SLE: 0.18 Item: Frigidaire 241917801 Closing Cam Unit\u001b[0m\n",
      "\u001b[92m21: Guess: $30.47 Truth: $18.49 Error: $11.98 SLE: 0.23 Item: DD81-02132A Dishwasher Door Switch Latch...\u001b[0m\n",
      "\u001b[91m22: Guess: $209.00 Truth: $58.87 Error: $150.13 SLE: 1.57 Item: Siwdoy W10290353 W10290350 Porcelain Dri...\u001b[0m\n",
      "\u001b[92m23: Guess: $11.99 Truth: $11.90 Error: $0.09 SLE: 0.00 Item: OUGAR8 Refrigerator Door Handle Covers H...\u001b[0m\n",
      "\u001b[92m24: Guess: $8.99 Truth: $9.99 Error: $1.00 SLE: 0.01 Item: 90ml / 3oz Milk Frothing Cup, Stainless ...\u001b[0m\n",
      "\u001b[92m25: Guess: $8.99 Truth: $6.99 Error: $2.00 SLE: 0.05 Item: RLECS 100pcs Dishwasher Cap Push-fit Pro...\u001b[0m\n",
      "\u001b[93m26: Guess: $22.22 Truth: $64.40 Error: $42.18 SLE: 1.07 Item: GE WH07X10009 Genuine OEM Drive Belt for...\u001b[0m\n",
      "\u001b[92m27: Guess: $13.99 Truth: $17.95 Error: $3.96 SLE: 0.05 Item: FineInno 30Packs Silicone Seal Filter Re...\u001b[0m\n",
      "\u001b[92m28: Guess: $14.65 Truth: $8.59 Error: $6.06 SLE: 0.24 Item: Hitachi 323649 Table Insert (B) C12LC C1...\u001b[0m\n",
      "\u001b[92m29: Guess: $49.77 Truth: $61.93 Error: $12.16 SLE: 0.05 Item: LG EAU63103205 Genuine OEM Condenser Fan...\u001b[0m\n",
      "\u001b[92m30: Guess: $262.47 Truth: $265.36 Error: $2.89 SLE: 0.00 Item: Galanz GL1CT24AS4G Cooktop, 4 Triple Rin...\u001b[0m\n",
      "\u001b[92m31: Guess: $7.99 Truth: $9.99 Error: $2.00 SLE: 0.04 Item: Lifetime Warranty 3949247 Washer Lid Swi...\u001b[0m\n",
      "\u001b[92m32: Guess: $21.66 Truth: $20.47 Error: $1.19 SLE: 0.00 Item: Frigidaire 215846602 Defrost Timer\u001b[0m\n",
      "\u001b[92m33: Guess: $83.99 Truth: $59.87 Error: $24.12 SLE: 0.11 Item: Siwdoy 318067041 318067051 Porcelain Dri...\u001b[0m\n",
      "\u001b[92m34: Guess: $65.69 Truth: $29.99 Error: $35.70 SLE: 0.59 Item: Supplying Demand MEE61841401 MEE63084901...\u001b[0m\n",
      "\u001b[92m35: Guess: $25.43 Truth: $28.66 Error: $3.23 SLE: 0.01 Item: Electrolux 316220725 Series Overlay\u001b[0m\n",
      "\u001b[92m36: Guess: $25.99 Truth: $25.95 Error: $0.04 SLE: 0.00 Item: Filters Fast Compatible Replacement for ...\u001b[0m\n",
      "\u001b[91m37: Guess: $47.22 Truth: $228.78 Error: $181.56 SLE: 2.44 Item: N A Portable Ice Maker Countertop Freest...\u001b[0m\n",
      "\u001b[91m38: Guess: $262.47 Truth: $660.00 Error: $397.53 SLE: 0.85 Item: YOOYIST Portable Countertop Dishwasher, ...\u001b[0m\n",
      "\u001b[92m39: Guess: $8.99 Truth: $12.99 Error: $4.00 SLE: 0.11 Item: AQUACREST TÜV SÜD Certified Coffee Water...\u001b[0m\n",
      "\u001b[92m40: Guess: $25.99 Truth: $32.95 Error: $6.96 SLE: 0.05 Item: Whirlpool WP2186494B OEM Refrigerator Wa...\u001b[0m\n",
      "\u001b[93m41: Guess: $239.99 Truth: $179.99 Error: $60.00 SLE: 0.08 Item: thermomate Gas Cooktop, 12 Inch Built In...\u001b[0m\n",
      "\u001b[92m42: Guess: $37.47 Truth: $57.44 Error: $19.97 SLE: 0.17 Item: Frigidaire 5304440323 3 Door Handle\u001b[0m\n",
      "\u001b[92m43: Guess: $24.95 Truth: $33.95 Error: $9.00 SLE: 0.09 Item: Thuepak Dishwasher Magnet Cover - Lighth...\u001b[0m\n",
      "\u001b[93m44: Guess: $74.99 Truth: $26.57 Error: $48.42 SLE: 1.03 Item: Replace Samsung Heating Element DC47-000...\u001b[0m\n",
      "\u001b[92m45: Guess: $23.47 Truth: $15.89 Error: $7.58 SLE: 0.14 Item: Quail Egg Cartons 50 Pack Each 12 Small ...\u001b[0m\n",
      "\u001b[92m46: Guess: $25.99 Truth: $18.99 Error: $7.00 SLE: 0.09 Item: EXCELPURE 4396508 Refrigerator Water Fil...\u001b[0m\n",
      "\u001b[92m47: Guess: $8.99 Truth: $14.99 Error: $6.00 SLE: 0.22 Item: 3 Way Y Shape Duct Connector 3.7 Inch AB...\u001b[0m\n",
      "\u001b[92m48: Guess: $24.77 Truth: $54.95 Error: $30.18 SLE: 0.60 Item: GENUINE Frigidaire 131859100 Timer Knob,...\u001b[0m\n",
      "\u001b[92m49: Guess: $7.99 Truth: $8.60 Error: $0.61 SLE: 0.00 Item: DC32-00007A Dryer Thermistor for Samsung...\u001b[0m\n",
      "\u001b[92m50: Guess: $29.99 Truth: $21.99 Error: $8.00 SLE: 0.09 Item: 2-Pack Replacement for Samsung RFG297HDR...\u001b[0m\n",
      "\u001b[92m51: Guess: $10.65 Truth: $9.99 Error: $0.66 SLE: 0.00 Item: Vent Systems 4'' Inch Galvanized Steel D...\u001b[0m\n",
      "\u001b[92m52: Guess: $25.99 Truth: $52.90 Error: $26.91 SLE: 0.48 Item: ForeverPRO 3750EL0001C Rack for LG Dryer...\u001b[0m\n",
      "\u001b[93m53: Guess: $319.99 Truth: $259.99 Error: $60.00 SLE: 0.04 Item: 11Lbs 2.6 cu.f Electric Portable Clothes...\u001b[0m\n",
      "\u001b[92m54: Guess: $174.57 Truth: $174.64 Error: $0.07 SLE: 0.00 Item: Whirlpool WPW10331686 Gas Range Control ...\u001b[0m\n",
      "\u001b[92m55: Guess: $32.99 Truth: $7.89 Error: $25.10 SLE: 1.80 Item: Ultra Durable 8269145 Undercounter Dishw...\u001b[0m\n",
      "\u001b[91m56: Guess: $109.99 Truth: $199.99 Error: $90.00 SLE: 0.35 Item: Deco Chef 40LB/24H Countertop Ice Maker,...\u001b[0m\n",
      "\u001b[92m57: Guess: $47.95 Truth: $23.91 Error: $24.04 SLE: 0.46 Item: HQRP Filter 3-Pack Compatible with Sunbe...\u001b[0m\n",
      "\u001b[92m58: Guess: $25.99 Truth: $51.16 Error: $25.17 SLE: 0.43 Item: OEM Samsung Dryer Lint Filter Screen Sup...\u001b[0m\n",
      "\u001b[92m59: Guess: $29.99 Truth: $35.95 Error: $5.96 SLE: 0.03 Item: Spring Summer Flower and Birds Panting D...\u001b[0m\n",
      "\u001b[92m60: Guess: $25.99 Truth: $30.88 Error: $4.89 SLE: 0.03 Item: Cooker Hat Set Stove Lid Upgraded, Oven ...\u001b[0m\n",
      "\u001b[92m61: Guess: $15.99 Truth: $19.69 Error: $3.70 SLE: 0.04 Item: Milk Frothing Pitcher, 420ml/14oz Stainl...\u001b[0m\n",
      "\u001b[91m62: Guess: $14.66 Truth: $132.32 Error: $117.66 SLE: 4.59 Item: Frigidaire 240530811 Meat Pan for Refrig...\u001b[0m\n",
      "\u001b[92m63: Guess: $47.99 Truth: $24.99 Error: $23.00 SLE: 0.40 Item: Smilyan 2 Pack Upgraded Blue Mesh Treate...\u001b[0m\n",
      "\u001b[92m64: Guess: $14.99 Truth: $9.99 Error: $5.00 SLE: 0.14 Item: GoldTone Reusable Coffee Filter Capsule ...\u001b[0m\n",
      "\u001b[92m65: Guess: $29.99 Truth: $25.99 Error: $4.00 SLE: 0.02 Item: ADQ73373201 Dryer Lint Filter for LG Dry...\u001b[0m\n",
      "\u001b[91m66: Guess: $47.22 Truth: $136.62 Error: $89.40 SLE: 1.10 Item: GE Appliances WD49X23778 Dishwasher Circ...\u001b[0m\n",
      "\u001b[92m67: Guess: $8.99 Truth: $13.99 Error: $5.00 SLE: 0.16 Item: Fasmov 2 Pack 36 Cups Egg Tray, Acacia W...\u001b[0m\n",
      "\u001b[92m68: Guess: $726.65 Truth: $702.69 Error: $23.96 SLE: 0.00 Item: Danby DFF101B1BSLDB 10.1 Cu.Ft. Top Moun...\u001b[0m\n",
      "\u001b[92m69: Guess: $43.66 Truth: $61.64 Error: $17.98 SLE: 0.11 Item: Vollrath Traex (TR6B) Full Size Glass an...\u001b[0m\n",
      "\u001b[92m70: Guess: $26.99 Truth: $47.99 Error: $21.00 SLE: 0.31 Item: 4-Pack Replacement for LG LFX25974SW Ref...\u001b[0m\n",
      "\u001b[92m71: Guess: $37.99 Truth: $27.99 Error: $10.00 SLE: 0.09 Item: 134792700 Dryer Heating Element Replacem...\u001b[0m\n",
      "\u001b[92m72: Guess: $10.99 Truth: $7.97 Error: $3.02 SLE: 0.08 Item: Ultra Durable WD12X271 Dishwasher Dishra...\u001b[0m\n",
      "\u001b[92m73: Guess: $18.99 Truth: $10.99 Error: $8.00 SLE: 0.26 Item: Supplying Demand WR02X12008 WR2X10519 Re...\u001b[0m\n",
      "\u001b[92m74: Guess: $13.99 Truth: $9.99 Error: $4.00 SLE: 0.10 Item: FitFabHome 2 Pack Stove Counter Gap Cove...\u001b[0m\n",
      "\u001b[92m75: Guess: $23.47 Truth: $19.99 Error: $3.48 SLE: 0.02 Item: Refresh NSF-53 Premium Replacement Refri...\u001b[0m\n",
      "\u001b[92m76: Guess: $29.99 Truth: $24.99 Error: $5.00 SLE: 0.03 Item: ICEPURE ADQ36006101 9690 Water Filter Re...\u001b[0m\n",
      "\u001b[92m77: Guess: $43.66 Truth: $14.48 Error: $29.18 SLE: 1.12 Item: GE Icemaker & Refrigerator Water Filter ...\u001b[0m\n",
      "\u001b[92m78: Guess: $5.97 Truth: $9.89 Error: $3.92 SLE: 0.20 Item: Ultra Durable 285790 (6 Pads) Washer Clu...\u001b[0m\n",
      "\u001b[92m79: Guess: $18.99 Truth: $15.92 Error: $3.07 SLE: 0.03 Item: Reusable Coffee Filters 4 Packs - 8-12 C...\u001b[0m\n",
      "\u001b[93m80: Guess: $127.99 Truth: $169.99 Error: $42.00 SLE: 0.08 Item: ROVSUN 26lbs Compact Twin Tub Portable W...\u001b[0m\n",
      "\u001b[92m81: Guess: $10.99 Truth: $32.94 Error: $21.95 SLE: 1.08 Item: Whirlpool WP99001359 Dishwasher Water In...\u001b[0m\n",
      "\u001b[92m82: Guess: $11.99 Truth: $7.99 Error: $4.00 SLE: 0.14 Item: Gekufa WE09X20441 Dryer Felt Seal, Lower...\u001b[0m\n",
      "\u001b[92m83: Guess: $5.99 Truth: $12.99 Error: $7.00 SLE: 0.48 Item: 4-Pack W10861225 White Dryer Door Handle...\u001b[0m\n",
      "\u001b[91m84: Guess: $174.00 Truth: $70.00 Error: $104.00 SLE: 0.81 Item: Garland 4531547 Broiler Burner - 304Ss\u001b[0m\n",
      "\u001b[92m85: Guess: $10.99 Truth: $29.99 Error: $19.00 SLE: 0.90 Item: Pureline MWF Replacement for GE MWF, Sma...\u001b[0m\n",
      "\u001b[92m86: Guess: $47.22 Truth: $34.98 Error: $12.24 SLE: 0.09 Item: TJPoto #240338001 Door Bin Shelf Refrige...\u001b[0m\n",
      "\u001b[92m87: Guess: $5.99 Truth: $4.70 Error: $1.29 SLE: 0.04 Item: newlifeapp 8181846 Washer Door Handle, R...\u001b[0m\n",
      "\u001b[92m88: Guess: $32.00 Truth: $23.38 Error: $8.62 SLE: 0.09 Item: WP63594 63594 Fabric Softener Dispenser ...\u001b[0m\n",
      "\u001b[92m89: Guess: $39.99 Truth: $11.99 Error: $28.00 SLE: 1.32 Item: Anyray 2-LED 50-Watt Replacement Bulb fo...\u001b[0m\n",
      "\u001b[92m90: Guess: $30.47 Truth: $30.99 Error: $0.52 SLE: 0.00 Item: FilterLogic ADQ73613401 Refrigerator Wat...\u001b[0m\n",
      "\u001b[92m91: Guess: $22.69 Truth: $14.99 Error: $7.70 SLE: 0.15 Item: WB31T10010 and WB31T10011 Replacement Ch...\u001b[0m\n",
      "\u001b[92m92: Guess: $10.99 Truth: $5.99 Error: $5.00 SLE: 0.29 Item: 285753A Washer Direct Drive Motor Coupli...\u001b[0m\n",
      "\u001b[92m93: Guess: $37.99 Truth: $55.99 Error: $18.00 SLE: 0.14 Item: 2-Pack WPW10710203 Door Shelf Replacemen...\u001b[0m\n",
      "\u001b[92m94: Guess: $5.99 Truth: $13.97 Error: $7.98 SLE: 0.58 Item: [NEW UPGRADED] W10195417 Dishwasher Trac...\u001b[0m\n",
      "\u001b[91m95: Guess: $404.32 Truth: $204.95 Error: $199.37 SLE: 0.46 Item: LG EBR64173902 Genuine OEM Compressor Co...\u001b[0m\n",
      "\u001b[92m96: Guess: $22.50 Truth: $33.45 Error: $10.95 SLE: 0.15 Item: LASCO 05-1132 Evaporative Swamp Cooler M...\u001b[0m\n",
      "\u001b[93m97: Guess: $83.77 Truth: $20.39 Error: $63.38 SLE: 1.90 Item: WR57X10032 WR57X33326 Refrigerator Water...\u001b[0m\n",
      "\u001b[92m98: Guess: $10.99 Truth: $10.80 Error: $0.19 SLE: 0.00 Item: Frigidaire FRPFUAF1 PureFresh Universal ...\u001b[0m\n",
      "\u001b[92m99: Guess: $8.99 Truth: $13.99 Error: $5.00 SLE: 0.16 Item: Honeydak 4 Pieces Creamer Pitcher Bell S...\u001b[0m\n",
      "\u001b[92m100: Guess: $47.22 Truth: $42.14 Error: $5.08 SLE: 0.01 Item: GLOB PRO SOLUTIONS WH23X10041 CK900264 W...\u001b[0m\n",
      "\u001b[92m101: Guess: $5.98 Truth: $10.87 Error: $4.89 SLE: 0.28 Item: Whirlpool 21258 Hinge Bearing\u001b[0m\n",
      "\u001b[92m102: Guess: $13.99 Truth: $45.98 Error: $31.99 SLE: 1.30 Item: Large Capacity Egg Holder for Refrigerat...\u001b[0m\n",
      "\u001b[92m103: Guess: $18.99 Truth: $23.99 Error: $5.00 SLE: 0.05 Item: 4581EL2002C Dryer Drum Roller Assembly C...\u001b[0m\n",
      "\u001b[92m104: Guess: $24.99 Truth: $19.53 Error: $5.46 SLE: 0.06 Item: Vicks Humidity Monitor White\u001b[0m\n",
      "\u001b[93m105: Guess: $14.66 Truth: $75.19 Error: $60.53 SLE: 2.50 Item: Whirlpool 67001503 Pan Crisper Large\u001b[0m\n",
      "\u001b[92m106: Guess: $43.66 Truth: $29.69 Error: $13.97 SLE: 0.14 Item: Supco DE525 Dryer Lint Screen Replaces 3...\u001b[0m\n",
      "\u001b[92m107: Guess: $15.99 Truth: $6.99 Error: $9.00 SLE: 0.57 Item: 49621 AP4295805 Dryer Leveling Leg Foot ...\u001b[0m\n",
      "\u001b[91m108: Guess: $47.22 Truth: $239.99 Error: $192.77 SLE: 2.59 Item: 30\" Range Hood, GASLAND Chef PR30SP Wall...\u001b[0m\n",
      "\u001b[92m109: Guess: $47.99 Truth: $26.99 Error: $21.00 SLE: 0.31 Item: Tier1 Replacement for Aprilaire Water Pa...\u001b[0m\n",
      "\u001b[92m110: Guess: $47.99 Truth: $36.78 Error: $11.21 SLE: 0.07 Item: Whole Parts Range or Burner Cap Part # 0...\u001b[0m\n",
      "\u001b[92m111: Guess: $22.22 Truth: $22.26 Error: $0.04 SLE: 0.00 Item: Deflecto A058/5 Semi-Rigid Flexible Alum...\u001b[0m\n",
      "\u001b[91m112: Guess: $349.95 Truth: $849.95 Error: $500.00 SLE: 0.78 Item: ZLINE 30 in. 400 CFM Designer Series Woo...\u001b[0m\n",
      "\u001b[92m113: Guess: $8.99 Truth: $18.99 Error: $10.00 SLE: 0.48 Item: ZEAYEA 3 Pack Eggs Carrier with Handle, ...\u001b[0m\n",
      "\u001b[92m114: Guess: $37.99 Truth: $19.45 Error: $18.54 SLE: 0.42 Item: GOTOTOP Electric Stove Burner Covers Sto...\u001b[0m\n",
      "\u001b[92m115: Guess: $24.99 Truth: $59.99 Error: $35.00 SLE: 0.73 Item: Pureline DA29-00020B, Replacement for Sa...\u001b[0m\n",
      "\u001b[92m116: Guess: $47.99 Truth: $29.95 Error: $18.04 SLE: 0.21 Item: 10 Foot Stainless Steel Washing Machine ...\u001b[0m\n",
      "\u001b[92m117: Guess: $23.47 Truth: $4.99 Error: $18.48 SLE: 1.98 Item: 25 Inches Gap Filler for Stove and Count...\u001b[0m\n",
      "\u001b[92m118: Guess: $30.47 Truth: $49.99 Error: $19.52 SLE: 0.23 Item: DC97-14486A DC97-14486D Dryer Heating El...\u001b[0m\n",
      "\u001b[92m119: Guess: $25.99 Truth: $21.89 Error: $4.10 SLE: 0.03 Item: For BOSCH 00752018 Dishwasher Junction B...\u001b[0m\n",
      "\u001b[92m120: Guess: $10.99 Truth: $36.95 Error: $25.96 SLE: 1.33 Item: Pureline DW2042FR-09 Replacement for Dae...\u001b[0m\n",
      "\u001b[92m121: Guess: $24.99 Truth: $26.99 Error: $2.00 SLE: 0.01 Item: GOLDEN ICEPURE ADQ72910901 Refrigerator ...\u001b[0m\n",
      "\u001b[92m122: Guess: $5.99 Truth: $11.98 Error: $5.99 SLE: 0.38 Item: iRomehony Start Relay 6748C-0003D Refrig...\u001b[0m\n",
      "\u001b[92m123: Guess: $139.98 Truth: $139.00 Error: $0.98 SLE: 0.00 Item: Smad Countertop Ice Maker Stainless Stee...\u001b[0m\n",
      "\u001b[92m124: Guess: $22.99 Truth: $23.99 Error: $1.00 SLE: 0.00 Item: 4-Pack Replacement for Frigidaire FRS6HR...\u001b[0m\n",
      "\u001b[92m125: Guess: $10.99 Truth: $42.77 Error: $31.78 SLE: 1.68 Item: Sunniswi DD81-02331A (9.3Ft) Dishwasher ...\u001b[0m\n",
      "\u001b[92m126: Guess: $57.65 Truth: $26.99 Error: $30.66 SLE: 0.55 Item: Frigidaire 154637401 Inlet Valve\u001b[0m\n",
      "\u001b[92m127: Guess: $31.99 Truth: $27.99 Error: $4.00 SLE: 0.02 Item: Refresh Replacement for Frigidaire WF1CB...\u001b[0m\n",
      "\u001b[92m128: Guess: $5.99 Truth: $11.99 Error: $6.00 SLE: 0.38 Item: Whaline 3Pcs Christmas Fridge Handle Cov...\u001b[0m\n",
      "\u001b[92m129: Guess: $22.50 Truth: $39.50 Error: $17.00 SLE: 0.30 Item: Appliance Parts 30X356 MIN 20 6\" Surface...\u001b[0m\n",
      "\u001b[92m130: Guess: $11.99 Truth: $9.59 Error: $2.40 SLE: 0.04 Item: LBB-Parts Cooler Replacement Drain Plug ...\u001b[0m\n",
      "\u001b[91m131: Guess: $572.47 Truth: $329.59 Error: $242.88 SLE: 0.30 Item: Frigidaire EFRF694, 6.5 cu ft, Upright F...\u001b[0m\n",
      "\u001b[92m132: Guess: $196.99 Truth: $168.00 Error: $28.99 SLE: 0.03 Item: 24 inches Stainless Gas Cooktop Built in...\u001b[0m\n",
      "\u001b[92m133: Guess: $99.99 Truth: $89.99 Error: $10.00 SLE: 0.01 Item: LETTON 600W Portable Clothes Dryer - Com...\u001b[0m\n",
      "\u001b[92m134: Guess: $15.99 Truth: $9.99 Error: $6.00 SLE: 0.19 Item: 134511600 Washer Drive Belt, Replacement...\u001b[0m\n",
      "\u001b[92m135: Guess: $65.65 Truth: $27.95 Error: $37.70 SLE: 0.70 Item: Samsung DA63-06472A Cover-Guard REF L\u001b[0m\n",
      "\u001b[92m136: Guess: $10.99 Truth: $21.49 Error: $10.50 SLE: 0.40 Item: WE03X25285 Main Control Knob Assembly - ...\u001b[0m\n",
      "\u001b[92m137: Guess: $22.99 Truth: $23.99 Error: $1.00 SLE: 0.00 Item: 2-Pack Replacement for LG LSXS22423S Ref...\u001b[0m\n",
      "\u001b[93m138: Guess: $29.65 Truth: $91.25 Error: $61.60 SLE: 1.21 Item: Supco SM1008 Dryer Drive Motor Assembly ...\u001b[0m\n",
      "\u001b[92m139: Guess: $5.99 Truth: $10.66 Error: $4.67 SLE: 0.26 Item: 4 Pack of WD12X26146, WD12X10435, AP6989...\u001b[0m\n",
      "\u001b[93m140: Guess: $66.47 Truth: $21.23 Error: $45.24 SLE: 1.23 Item: Frigidaire 5303051519 Range Bake Element...\u001b[0m\n",
      "\u001b[92m141: Guess: $5.99 Truth: $5.99 Error: $0.00 SLE: 0.00 Item: 675813 Dishwasher Thermal Fuse Replaceme...\u001b[0m\n",
      "\u001b[92m142: Guess: $23.99 Truth: $37.99 Error: $14.00 SLE: 0.20 Item: PUREPLUS ADQ747935 Replacement for LG LT...\u001b[0m\n",
      "\u001b[92m143: Guess: $16.99 Truth: $16.99 Error: $0.00 SLE: 0.00 Item: W10208631A Grease Filter Replacement for...\u001b[0m\n",
      "\u001b[92m144: Guess: $11.99 Truth: $15.99 Error: $4.00 SLE: 0.07 Item: 2 Pack Child Proof Fridge Lock, Refriger...\u001b[0m\n",
      "\u001b[92m145: Guess: $10.99 Truth: $11.99 Error: $1.00 SLE: 0.01 Item: Forchrinse Yellow Refrigerator Door Hand...\u001b[0m\n",
      "\u001b[92m146: Guess: $13.99 Truth: $7.99 Error: $6.00 SLE: 0.26 Item: W10546503 Dishwasher Upper Rack Adjuster...\u001b[0m\n",
      "\u001b[92m147: Guess: $13.47 Truth: $12.99 Error: $0.48 SLE: 0.00 Item: 2 Pcs Covered Egg Holders for Refrigerat...\u001b[0m\n",
      "\u001b[92m148: Guess: $47.99 Truth: $67.42 Error: $19.43 SLE: 0.11 Item: Tier1 Replacement for Aprilaire Water Pa...\u001b[0m\n",
      "\u001b[93m149: Guess: $43.66 Truth: $84.95 Error: $41.29 SLE: 0.43 Item: LG Electronics 4276ER0001A Dryer Pedesta...\u001b[0m\n",
      "\u001b[92m150: Guess: $15.99 Truth: $16.99 Error: $1.00 SLE: 0.00 Item: 2 Pack K Cups Reusable Coffee Pods for N...\u001b[0m\n",
      "\u001b[92m151: Guess: $10.99 Truth: $35.99 Error: $25.00 SLE: 1.27 Item: Supplying Demand 833697 10884507 Refrige...\u001b[0m\n",
      "\u001b[92m152: Guess: $18.99 Truth: $22.99 Error: $4.00 SLE: 0.03 Item: Supplying Demand W10545291 W10436435 Ele...\u001b[0m\n",
      "\u001b[92m153: Guess: $29.99 Truth: $18.99 Error: $11.00 SLE: 0.19 Item: Filter-Monster Replacement for Kenmore 3...\u001b[0m\n",
      "\u001b[92m154: Guess: $43.66 Truth: $47.99 Error: $4.33 SLE: 0.01 Item: SSEHCWAN Washer and Dryer Stands, 12 Fee...\u001b[0m\n",
      "\u001b[92m155: Guess: $24.99 Truth: $36.89 Error: $11.90 SLE: 0.14 Item: Beautiful Scenery Magnetic Stickers Flow...\u001b[0m\n",
      "\u001b[92m156: Guess: $31.99 Truth: $12.99 Error: $19.00 SLE: 0.74 Item: Replacement for Whirlpool ED5VHGXML13 Re...\u001b[0m\n",
      "\u001b[92m157: Guess: $30.47 Truth: $30.49 Error: $0.02 SLE: 0.00 Item: OEM Washing Machine Thermistor Compatibl...\u001b[0m\n",
      "\u001b[92m158: Guess: $16.99 Truth: $12.99 Error: $4.00 SLE: 0.06 Item: Aluminum Foil Seals for Nespresso Vertuo...\u001b[0m\n",
      "\u001b[92m159: Guess: $30.47 Truth: $29.99 Error: $0.48 SLE: 0.00 Item: [Upgraded] DG64-00473B Stove Knobs Compa...\u001b[0m\n",
      "\u001b[92m160: Guess: $10.99 Truth: $9.05 Error: $1.94 SLE: 0.03 Item: Blendin Replacement 280128500 Charcoal W...\u001b[0m\n",
      "\u001b[91m161: Guess: $262.47 Truth: $175.00 Error: $87.47 SLE: 0.16 Item: Gas Cooktop Gas Stove, 5 Burners Tempere...\u001b[0m\n",
      "\u001b[92m162: Guess: $31.99 Truth: $18.90 Error: $13.09 SLE: 0.26 Item: Whirlpool W10833885 Range Oven Temperatu...\u001b[0m\n",
      "\u001b[92m163: Guess: $23.47 Truth: $15.90 Error: $7.57 SLE: 0.14 Item: Egg Holder for Refrigerator, 30 Grid Lar...\u001b[0m\n",
      "\u001b[92m164: Guess: $7.99 Truth: $7.98 Error: $0.01 SLE: 0.00 Item: 3406107 Dryer Door Switch Replacement 34...\u001b[0m\n",
      "\u001b[92m165: Guess: $11.99 Truth: $12.99 Error: $1.00 SLE: 0.01 Item: Emelivor Tape Music Refrigerator Door Ha...\u001b[0m\n",
      "\u001b[92m166: Guess: $43.66 Truth: $20.41 Error: $23.25 SLE: 0.54 Item: Supco SM10141 Refrigerator Freezer Evapo...\u001b[0m\n",
      "\u001b[92m167: Guess: $16.76 Truth: $9.42 Error: $7.34 SLE: 0.28 Item: Whirlpool 8268961 Friction Pad, Black\u001b[0m\n",
      "\u001b[92m168: Guess: $10.99 Truth: $22.99 Error: $12.00 SLE: 0.48 Item: My-Cap Foil Seals Compatible with Nespre...\u001b[0m\n",
      "\u001b[92m169: Guess: $12.99 Truth: $8.99 Error: $4.00 SLE: 0.11 Item: FOXDISK Front Load Washer Door Prop, Mag...\u001b[0m\n",
      "\u001b[92m170: Guess: $25.99 Truth: $23.99 Error: $2.00 SLE: 0.01 Item: Supco DE838 Dryer Heater Element, Replac...\u001b[0m\n",
      "\u001b[92m171: Guess: $43.66 Truth: $22.94 Error: $20.72 SLE: 0.39 Item: AZ4U Refrigerators LED Light Module Asse...\u001b[0m\n",
      "\u001b[92m172: Guess: $18.65 Truth: $19.00 Error: $0.35 SLE: 0.00 Item: Dundas Jafine BPSH4WZW ProShield 4-Inch ...\u001b[0m\n",
      "\u001b[92m173: Guess: $14.98 Truth: $12.99 Error: $1.99 SLE: 0.02 Item: HONGRefrigerator Door Hinge Kit, compati...\u001b[0m\n",
      "\u001b[92m174: Guess: $47.22 Truth: $39.99 Error: $7.23 SLE: 0.03 Item: Salton Single Stainless Steel Coil Porta...\u001b[0m\n",
      "\u001b[92m175: Guess: $14.65 Truth: $9.95 Error: $4.70 SLE: 0.13 Item: RSVP International Endurance Kitchen Col...\u001b[0m\n",
      "\u001b[92m176: Guess: $24.66 Truth: $18.99 Error: $5.67 SLE: 0.06 Item: Water Level Pressure BPS-R 6501EA1001R/B...\u001b[0m\n",
      "\u001b[92m177: Guess: $22.99 Truth: $9.99 Error: $13.00 SLE: 0.61 Item: W10721967 Splutch Cam Kit Replacement fo...\u001b[0m\n",
      "\u001b[91m178: Guess: $127.22 Truth: $347.99 Error: $220.77 SLE: 1.00 Item: Havato Water Dispenser with Ice Maker, 3...\u001b[0m\n",
      "\u001b[92m179: Guess: $52.74 Truth: $62.70 Error: $9.96 SLE: 0.03 Item: Whirlpool 2315548\u001b[0m\n",
      "\u001b[92m180: Guess: $31.99 Truth: $33.99 Error: $2.00 SLE: 0.00 Item: EFP Humidifier Filters for 1041 Aircare ...\u001b[0m\n",
      "\u001b[92m181: Guess: $22.22 Truth: $10.91 Error: $11.31 SLE: 0.45 Item: HQRP AC Power Cord Compatible with DeWal...\u001b[0m\n",
      "\u001b[92m182: Guess: $14.99 Truth: $8.95 Error: $6.04 SLE: 0.23 Item: PS11741701 Dryer Door Switch Compatible ...\u001b[0m\n",
      "\u001b[91m183: Guess: $47.22 Truth: $153.61 Error: $106.39 SLE: 1.36 Item: VICTORY 50599401 Thermostat Heater Safet...\u001b[0m\n",
      "\u001b[92m184: Guess: $21.66 Truth: $33.46 Error: $11.80 SLE: 0.18 Item: W10594481 5PCS Stainless Steel Cooker St...\u001b[0m\n",
      "\u001b[92m185: Guess: $10.99 Truth: $27.94 Error: $16.95 SLE: 0.78 Item: DA97-12650A DA63-06963A Door Shelf Bin R...\u001b[0m\n",
      "\u001b[92m186: Guess: $11.98 Truth: $12.99 Error: $1.01 SLE: 0.01 Item: Front Load Washer Door Prop - Magnetic W...\u001b[0m\n",
      "\u001b[92m187: Guess: $25.99 Truth: $49.99 Error: $24.00 SLE: 0.40 Item: Repairwares Refrigerator Freezer Door Ga...\u001b[0m\n",
      "\u001b[92m188: Guess: $22.99 Truth: $20.99 Error: $2.00 SLE: 0.01 Item: DG64-00473A Stove Knobs Top Burner Dial ...\u001b[0m\n",
      "\u001b[91m189: Guess: $594.81 Truth: $289.99 Error: $304.82 SLE: 0.51 Item: Anukis Compact Refrigerator 4.0 Cu Ft 2 ...\u001b[0m\n",
      "\u001b[92m190: Guess: $30.47 Truth: $21.99 Error: $8.48 SLE: 0.10 Item: SIGMUO Sink Washing Machine | Mini Porta...\u001b[0m\n",
      "\u001b[92m191: Guess: $32.99 Truth: $22.29 Error: $10.70 SLE: 0.14 Item: Egg Holder for Refrigerator, Egg Storage...\u001b[0m\n",
      "\u001b[92m192: Guess: $37.99 Truth: $22.99 Error: $15.00 SLE: 0.24 Item: W10321304 Refrigerator Door Bin Replacem...\u001b[0m\n",
      "\u001b[92m193: Guess: $349.99 Truth: $399.99 Error: $50.00 SLE: 0.02 Item: IKTCH New 36\" Range Hood Insert, 900 CFM...\u001b[0m\n",
      "\u001b[91m194: Guess: $490.00 Truth: $309.99 Error: $180.01 SLE: 0.21 Item: SoloRock 6 Settings Countertop Dishwashe...\u001b[0m\n",
      "\u001b[92m195: Guess: $99.99 Truth: $98.99 Error: $1.00 SLE: 0.00 Item: Ice Makers Countertop - Silonn Portable ...\u001b[0m\n",
      "\u001b[92m196: Guess: $74.99 Truth: $36.73 Error: $38.26 SLE: 0.49 Item: Whirlpool W10498900 Dishwasher Spray Arm...\u001b[0m\n",
      "\u001b[91m197: Guess: $43.66 Truth: $129.69 Error: $86.03 SLE: 1.15 Item: Frigidaire 316203301 Element, Black\u001b[0m\n",
      "\u001b[92m198: Guess: $8.99 Truth: $8.49 Error: $0.50 SLE: 0.00 Item: AIEVE Coffee Paper Filter for Espresso M...\u001b[0m\n",
      "\u001b[93m199: Guess: $47.22 Truth: $105.99 Error: $58.77 SLE: 0.64 Item: OEM Samsung Range Convection Fan Motor O...\u001b[0m\n",
      "\u001b[92m200: Guess: $21.95 Truth: $39.95 Error: $18.00 SLE: 0.34 Item: Stove Protector Liners Compatible with M...\u001b[0m\n",
      "\u001b[91m201: Guess: $127.22 Truth: $608.99 Error: $481.77 SLE: 2.43 Item: Ancona Under Cabinet 30'' 450cfm Stainle...\u001b[0m\n",
      "\u001b[92m202: Guess: $10.99 Truth: $8.81 Error: $2.18 SLE: 0.04 Item: W10083957V Exact Fit for WHIRLPOOL DISHW...\u001b[0m\n",
      "\u001b[92m203: Guess: $43.99 Truth: $10.99 Error: $33.00 SLE: 1.75 Item: 285805 Water Inlet Valve Replacement for...\u001b[0m\n",
      "\u001b[92m204: Guess: $22.22 Truth: $16.99 Error: $5.23 SLE: 0.07 Item: Melitta Cone Coffee Filters, Natural Bro...\u001b[0m\n",
      "\u001b[93m205: Guess: $47.22 Truth: $94.02 Error: $46.80 SLE: 0.46 Item: IM943 Refrigerator Icemaker for Whirlpoo...\u001b[0m\n",
      "\u001b[92m206: Guess: $12.99 Truth: $8.88 Error: $4.11 SLE: 0.12 Item: Dailyart Milk Frothing Pitcher 13.5oz/40...\u001b[0m\n",
      "\u001b[92m207: Guess: $30.47 Truth: $27.77 Error: $2.70 SLE: 0.01 Item: UPGRADED SKK-8K & SKK-7A Stacking Kit Fi...\u001b[0m\n",
      "\u001b[92m208: Guess: $47.10 Truth: $56.16 Error: $9.06 SLE: 0.03 Item: Delfield 3978271 Wire 16 X 22-1/2 Silver...\u001b[0m\n",
      "\u001b[92m209: Guess: $30.47 Truth: $9.99 Error: $20.48 SLE: 1.11 Item: 5220FR2006H Washer Inlet Valve replaceme...\u001b[0m\n",
      "\u001b[92m210: Guess: $16.76 Truth: $27.99 Error: $11.23 SLE: 0.24 Item: OEM LG Washer Thermistor Originally For ...\u001b[0m\n",
      "\u001b[91m211: Guess: $209.00 Truth: $91.79 Error: $117.21 SLE: 0.67 Item: Whirlpool 74011778 Oven\u001b[0m\n",
      "\u001b[92m212: Guess: $21.66 Truth: $38.60 Error: $16.94 SLE: 0.31 Item: Washing Machine Drain Pump for GE WH23X2...\u001b[0m\n",
      "\u001b[92m213: Guess: $33.65 Truth: $20.45 Error: $13.20 SLE: 0.23 Item: WB13K21 - Gas Oven Igniter for General E...\u001b[0m\n",
      "\u001b[92m214: Guess: $8.99 Truth: $10.29 Error: $1.30 SLE: 0.01 Item: Supplying Demand 7004257 3060030 Refrige...\u001b[0m\n",
      "\u001b[92m215: Guess: $43.99 Truth: $19.99 Error: $24.00 SLE: 0.58 Item: W10158389 Dishwasher Water Inlet Valve R...\u001b[0m\n",
      "\u001b[92m216: Guess: $15.99 Truth: $16.99 Error: $1.00 SLE: 0.00 Item: Cenipar W10290350 & W10290353 Range Burn...\u001b[0m\n",
      "\u001b[92m217: Guess: $47.99 Truth: $45.69 Error: $2.30 SLE: 0.00 Item: Supplying Demand 12544002 8171096 Refrig...\u001b[0m\n",
      "\u001b[92m218: Guess: $25.99 Truth: $23.99 Error: $2.00 SLE: 0.01 Item: Supco DE838 Dryer Heater Element, Replac...\u001b[0m\n",
      "\u001b[92m219: Guess: $6.99 Truth: $9.99 Error: $3.00 SLE: 0.10 Item: 2Pcs Refrigerator Door Handle Covers Kee...\u001b[0m\n",
      "\u001b[92m220: Guess: $5.66 Truth: $31.94 Error: $26.28 SLE: 2.56 Item: Whirlpool W10195416 Wheel-Dish Rack, Bla...\u001b[0m\n",
      "\u001b[91m221: Guess: $21.95 Truth: $113.87 Error: $91.92 SLE: 2.59 Item: ForeverPRO W10248240 Temperature Switch ...\u001b[0m\n",
      "\u001b[92m222: Guess: $23.47 Truth: $11.99 Error: $11.48 SLE: 0.40 Item: Dryer Lint Vacuum Attachment PetOde Drye...\u001b[0m\n",
      "\u001b[92m223: Guess: $30.47 Truth: $22.62 Error: $7.85 SLE: 0.08 Item: GE WR50X10108 Refrigerator Defrost Bi-Me...\u001b[0m\n",
      "\u001b[93m224: Guess: $14.66 Truth: $75.90 Error: $61.24 SLE: 2.53 Item: Whirlpool W10822681 Water Inlet Valve\u001b[0m\n",
      "\u001b[92m225: Guess: $43.66 Truth: $18.41 Error: $25.25 SLE: 0.69 Item: Whirlpool 308180 Bake, Black\u001b[0m\n",
      "\u001b[92m226: Guess: $47.99 Truth: $19.05 Error: $28.94 SLE: 0.80 Item: WB13K21 Gas Oven Igniter Replacement wit...\u001b[0m\n",
      "\u001b[92m227: Guess: $10.99 Truth: $21.99 Error: $11.00 SLE: 0.42 Item: Tupkee Coffee Filters 8-12 Cups - 700 Co...\u001b[0m\n",
      "\u001b[91m228: Guess: $10.99 Truth: $93.00 Error: $82.01 SLE: 4.24 Item: Supco LP5252 Washer Drain Pump Replaces ...\u001b[0m\n",
      "\u001b[92m229: Guess: $22.50 Truth: $56.22 Error: $33.72 SLE: 0.79 Item: Accutemp AT1G-2633-1 Door Gasket\u001b[0m\n",
      "\u001b[92m230: Guess: $25.99 Truth: $19.80 Error: $6.19 SLE: 0.07 Item: UPGRADED Lifetime Appliance AAP73631502 ...\u001b[0m\n",
      "\u001b[92m231: Guess: $32.99 Truth: $19.99 Error: $13.00 SLE: 0.23 Item: Certified Appliance Accessories 52001 Re...\u001b[0m\n",
      "\u001b[92m232: Guess: $66.00 Truth: $76.99 Error: $10.99 SLE: 0.02 Item: A00263801 Burner Grate Replacement Parts...\u001b[0m\n",
      "\u001b[92m233: Guess: $47.99 Truth: $28.47 Error: $19.52 SLE: 0.26 Item: Beaquicy WB44K5013 Oven Bake Element - R...\u001b[0m\n",
      "\u001b[92m234: Guess: $47.99 Truth: $59.99 Error: $12.00 SLE: 0.05 Item: AC WORKS 30 Amp 3-Prong Dryer Wall Outle...\u001b[0m\n",
      "\u001b[92m235: Guess: $10.57 Truth: $42.65 Error: $32.08 SLE: 1.76 Item: Whirlpool W11259786 Dishwasher Upper Tra...\u001b[0m\n",
      "\u001b[93m236: Guess: $594.00 Truth: $939.99 Error: $345.99 SLE: 0.21 Item: TECSPACE 24\" 5.12 Cu.ft Undercounter Ref...\u001b[0m\n",
      "\u001b[92m237: Guess: $30.47 Truth: $11.00 Error: $19.47 SLE: 0.93 Item: General Electric WD9X351 Dishwasher Latc...\u001b[0m\n",
      "\u001b[92m238: Guess: $66.47 Truth: $76.99 Error: $10.52 SLE: 0.02 Item: Xiaqing Clothes Dryer Portable Fast 1000...\u001b[0m\n",
      "\u001b[92m239: Guess: $47.99 Truth: $32.99 Error: $15.00 SLE: 0.13 Item: 3387749 can replace WP3387749 Dryer Heat...\u001b[0m\n",
      "\u001b[92m240: Guess: $47.22 Truth: $33.00 Error: $14.22 SLE: 0.12 Item: Melitta #4 Cone Coffee Filters, Natural ...\u001b[0m\n",
      "\u001b[92m241: Guess: $22.22 Truth: $34.35 Error: $12.13 SLE: 0.18 Item: Apw Wyott 1301608\u001b[0m\n",
      "\u001b[92m242: Guess: $11.99 Truth: $19.90 Error: $7.91 SLE: 0.23 Item: Anti Vibration Pads for Washing Machine,...\u001b[0m\n",
      "\u001b[91m243: Guess: $378.98 Truth: $169.99 Error: $208.99 SLE: 0.64 Item: 3.0 Cu.Ft Compact Refrigerator with 2 Do...\u001b[0m\n",
      "\u001b[91m244: Guess: $289.00 Truth: $116.93 Error: $172.07 SLE: 0.81 Item: Vulcan Hart 856720-6 Dual Water Valve, 4...\u001b[0m\n",
      "\u001b[92m245: Guess: $65.65 Truth: $89.12 Error: $23.47 SLE: 0.09 Item: GE WH98R23015001 Washer Software Update ...\u001b[0m\n",
      "\u001b[92m246: Guess: $24.66 Truth: $26.99 Error: $2.33 SLE: 0.01 Item: Y11-5 Genuine InterVac Vacuum Cleaner Du...\u001b[0m\n",
      "\u001b[92m247: Guess: $18.97 Truth: $8.99 Error: $9.98 SLE: 0.48 Item: 2-Pack Reusable Stainless Steel Filters ...\u001b[0m\n",
      "\u001b[92m248: Guess: $10.99 Truth: $44.72 Error: $33.73 SLE: 1.79 Item: Tier1 CS-52 Refrigerator Water Filter 4-...\u001b[0m\n",
      "\u001b[92m249: Guess: $22.69 Truth: $16.99 Error: $5.70 SLE: 0.08 Item: NATURAL BREEZE New Reusable Filter Repla...\u001b[0m\n",
      "\u001b[92m250: Guess: $32.99 Truth: $61.70 Error: $28.71 SLE: 0.37 Item: UPGRADED Lifetime Appliance 131775600 Bl...\u001b[0m\n"
     ]
    },
    {
     "data": {
      "image/png": "[encoded data removed]",
      "text/plain": [
       "<Figure size 1200x800 with 1 Axes>"
      ]
     },
     "metadata": {},
     "output_type": "display_data"
    }
   ],
   "source": [
    "Tester.test(gpt_fine_tuned, test)"
   ]
  },
  {
   "cell_type": "code",
   "execution_count": null,
   "id": "120b98cd-114a-40d5-a1aa-3d5250c7178d",
   "metadata": {},
   "outputs": [],
   "source": []
  }
 ],
 "metadata": {
  "kernelspec": {
   "display_name": "Python 3 (ipykernel)",
   "language": "python",
   "name": "python3"
  },
  "language_info": {
   "codemirror_mode": {
    "name": "ipython",
    "version": 3
   },
   "file_extension": ".py",
   "mimetype": "text/x-python",
   "name": "python",
   "nbconvert_exporter": "python",
   "pygments_lexer": "ipython3",
   "version": "3.9.6"
  }
 },
 "nbformat": 4,
 "nbformat_minor": 5
}
